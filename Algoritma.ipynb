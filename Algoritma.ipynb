{
 "cells": [
  {
   "cell_type": "code",
   "execution_count": 6,
   "metadata": {},
   "outputs": [
    {
     "name": "stdout",
     "output_type": "stream",
     "text": [
      "Banyaknya data =5\n",
      "Data ke -1=10\n",
      "Data ke -2=30\n",
      "Data ke -3=20\n",
      "Data ke -4=40\n",
      "Data ke -5=70\n",
      "Bilangan Terbesar = 70\n"
     ]
    }
   ],
   "source": [
    "N=int(input(\"Banyaknya data =\"))\n",
    "B=-999\n",
    "for i in range(N):\n",
    "    B1=int(input(\"Data ke -\"+str(i+1)+\"=\"))\n",
    "    if B<B1:\n",
    "        B=B1\n",
    "print(\"Bilangan Terbesar =\",B)        "
   ]
  },
  {
   "cell_type": "code",
   "execution_count": null,
   "metadata": {},
   "outputs": [],
   "source": [
    "Celcius=float(input(\"Ketik Nilai Celcius =\"))\n",
    "Reamur = 4/5*Celcius\n",
    "Fahrenhit = 9/5*Celcius+32\n",
    "Kelvin = 273+Celcius\n",
    "print(\"Celcius = \",Celcius)\n",
    "print(\"Reamur  = \",Reamur)\n",
    "print(\"Kelvin  = \",Kelvin)"
   ]
  },
  {
   "cell_type": "code",
   "execution_count": null,
   "metadata": {},
   "outputs": [],
   "source": [
    "B1=int(input(\"Bilangan Pertama : \"))\n",
    "B2=int(input(\"Bilangan Kedua   : \"))\n",
    "print(\"bilangan terbesar adalah \",end=\"\")\n",
    "if B1>B2:\n",
    "    print(B1)\n",
    "else:\n",
    "    print(B2)"
   ]
  },
  {
   "cell_type": "code",
   "execution_count": null,
   "metadata": {},
   "outputs": [],
   "source": [
    "\n",
    "def Keliling(x,y):\n",
    "    return 2*(x+y)\n",
    "def Luas(x,y):\n",
    "    return x*y\n",
    "pjg=float(input(\"Panjang =\"))\n",
    "lbr=float(input(\"Lebar =\"))\n",
    "print(\"keliling = \",Keliling(pjg,lbr))\n",
    "print(\"luas = \",Luas(pjg,lbr))"
   ]
  }
 ],
 "metadata": {
  "kernelspec": {
   "display_name": "Python 3",
   "language": "python",
   "name": "python3"
  },
  "language_info": {
   "codemirror_mode": {
    "name": "ipython",
    "version": 3
   },
   "file_extension": ".py",
   "mimetype": "text/x-python",
   "name": "python",
   "nbconvert_exporter": "python",
   "pygments_lexer": "ipython3",
   "version": "3.7.3"
  }
 },
 "nbformat": 4,
 "nbformat_minor": 2
}
